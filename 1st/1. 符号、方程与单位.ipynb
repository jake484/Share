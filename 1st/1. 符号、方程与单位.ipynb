{
 "cells": [
  {
   "cell_type": "code",
   "execution_count": 2,
   "metadata": {},
   "outputs": [
    {
     "name": "stdout",
     "output_type": "stream",
     "text": [
      "\u001b[32m\u001b[1mStatus\u001b[22m\u001b[39m `D:\\postgraduate\\project\\develop\\Share\\Project.toml`\n",
      "  \u001b[90m[961ee093] \u001b[39mModelingToolkit v8.75.0\n",
      "  \u001b[90m[1dea7af3] \u001b[39mOrdinaryDiffEq v6.66.0\n",
      "  \u001b[90m[0c5d862f] \u001b[39mSymbolics v5.14.1\n",
      "  \u001b[90m[1986cc42] \u001b[39mUnitful v1.19.0\n"
     ]
    }
   ],
   "source": [
    "using Pkg\n",
    "Pkg.status()"
   ]
  },
  {
   "cell_type": "code",
   "execution_count": 3,
   "metadata": {},
   "outputs": [],
   "source": [
    "# 符号建模体系\n",
    "using ModelingToolkit, Symbolics"
   ]
  },
  {
   "cell_type": "markdown",
   "metadata": {},
   "source": [
    "1. [ModelingToolkit.jl](https://mtk.sciml.ai/dev/) \n",
    "2. [Symbolics.jl](https://symbolics.juliasymbolics.org/dev/)\n",
    "3. [Unitful.jl](https://painterqubits.github.io/Unitful.jl/stable/)\n",
    "\n",
    "MTK使用符号建模构建了组件建模体系，符号计算主要使用Symbolics.jl，单位系统使用Unitful.jl，ModelingToolkit自身主要用于构建组件系统并提供了面向求解器DiffereintialEquations.jl的接口。"
   ]
  },
  {
   "cell_type": "code",
   "execution_count": 4,
   "metadata": {},
   "outputs": [
    {
     "data": {
      "text/plain": [
       "Num"
      ]
     },
     "metadata": {},
     "output_type": "display_data"
    },
    {
     "data": {
      "text/plain": [
       "Num"
      ]
     },
     "metadata": {},
     "output_type": "display_data"
    },
    {
     "data": {
      "text/plain": [
       "(:val,)"
      ]
     },
     "metadata": {},
     "output_type": "display_data"
    }
   ],
   "source": [
    "# 定义符号变量\n",
    "@variables t x(t) y(t) z(t) # t是自变量，x,y,z是因变量\n",
    "x |> typeof |> display # 符号变量的类型是Sym\n",
    "t |> typeof |> display\n",
    "x |> propertynames |> display # 符号变量的属性"
   ]
  },
  {
   "cell_type": "code",
   "execution_count": 5,
   "metadata": {},
   "outputs": [
    {
     "data": {
      "text/latex": [
       "$$ \\begin{equation}\n",
       "x\\left( t \\right)\n",
       "\\end{equation}\n",
       " $$"
      ],
      "text/plain": [
       "x(t)"
      ]
     },
     "metadata": {},
     "output_type": "display_data"
    },
    {
     "data": {
      "text/plain": [
       "(:metadata, :f, :hash, :arguments)"
      ]
     },
     "metadata": {},
     "output_type": "display_data"
    }
   ],
   "source": [
    "x.val |> display\n",
    "x.val |> propertynames |> display # 符号变量的值的属性"
   ]
  },
  {
   "cell_type": "code",
   "execution_count": 6,
   "metadata": {},
   "outputs": [
    {
     "data": {
      "text/plain": [
       "Base.ImmutableDict{DataType, Any} with 1 entry:\n",
       "  VariableSource => (:variables, :x)"
      ]
     },
     "metadata": {},
     "output_type": "display_data"
    },
    {
     "data": {
      "text/latex": [
       "$$ \\begin{equation}\n",
       "x\n",
       "\\end{equation}\n",
       " $$"
      ],
      "text/plain": [
       "x"
      ]
     },
     "metadata": {},
     "output_type": "display_data"
    },
    {
     "data": {
      "text/plain": [
       "Base.RefValue{UInt64}(0x0000000000000000)"
      ]
     },
     "metadata": {},
     "output_type": "display_data"
    },
    {
     "data": {
      "text/plain": [
       "1-element Vector{Any}:\n",
       " t"
      ]
     },
     "metadata": {},
     "output_type": "display_data"
    }
   ],
   "source": [
    "x.val.metadata |> display # 符号变量的值的元数据\n",
    "x.val.f |> display # 符号变量的值的函数\n",
    "x.val.hash |> display # 符号变量的值的函数的值\n",
    "x.val.arguments |> display # 符号变量的值的函数的值的属性"
   ]
  },
  {
   "cell_type": "code",
   "execution_count": 7,
   "metadata": {},
   "outputs": [
    {
     "data": {
      "text/latex": [
       "$$ \\begin{equation}\n",
       "t\n",
       "\\end{equation}\n",
       " $$"
      ],
      "text/plain": [
       "t"
      ]
     },
     "metadata": {},
     "output_type": "display_data"
    },
    {
     "data": {
      "text/plain": [
       "Base.ImmutableDict{DataType, Any} with 2 entries:\n",
       "  VariableUnit   => s\n",
       "  VariableSource => (:variables, :t)"
      ]
     },
     "metadata": {},
     "output_type": "display_data"
    }
   ],
   "source": [
    "using Unitful\n",
    "@variables t [unit = u\"s\"]\n",
    "t |> display\n",
    "t.val.metadata |> display # 符号变量的值的元数据"
   ]
  },
  {
   "cell_type": "code",
   "execution_count": 8,
   "metadata": {},
   "outputs": [
    {
     "data": {
      "text/plain": [
       "true"
      ]
     },
     "metadata": {},
     "output_type": "display_data"
    },
    {
     "data": {
      "text/plain": [
       "true"
      ]
     },
     "metadata": {},
     "output_type": "display_data"
    },
    {
     "data": {
      "text/plain": [
       "1 J s^-1"
      ]
     },
     "metadata": {},
     "output_type": "display_data"
    },
    {
     "data": {
      "text/plain": [
       "1 kg m^2 s^-3"
      ]
     },
     "metadata": {},
     "output_type": "display_data"
    },
    {
     "data": {
      "text/plain": [
       "true"
      ]
     },
     "metadata": {},
     "output_type": "display_data"
    }
   ],
   "source": [
    "display(u\"m\" * 1000 == u\"km\" * 1)\n",
    "display(1000u\"m\" == 1u\"km\")\n",
    "display(1u\"J\" * 1u\"s^-1\")\n",
    "display(upreferred(1u\"J\" * 1u\"s^-1\"))\n",
    "display(1u\"W\" == 1u\"J\" * 1u\"s^-1\")"
   ]
  },
  {
   "cell_type": "markdown",
   "metadata": {},
   "source": [
    "Symbolics.jl是使用了Julia语言描述了一套符号建模体系\n",
    "**@variables的内涵**：定义了一个符号类型(Num)，并以同样的变量名定义了一个变量绑定该类型。"
   ]
  },
  {
   "cell_type": "code",
   "execution_count": 9,
   "metadata": {},
   "outputs": [
    {
     "data": {
      "text/latex": [
       "$$ \\begin{equation}\n",
       "\\left[\n",
       "\\begin{array}{c}\n",
       "x \\\\\n",
       "\\end{array}\n",
       "\\right]\n",
       "\\end{equation}\n",
       " $$"
      ],
      "text/plain": [
       "1-element Vector{Num}:\n",
       " x"
      ]
     },
     "metadata": {},
     "output_type": "display_data"
    },
    {
     "data": {
      "text/latex": [
       "$$ \\begin{equation}\n",
       "x\n",
       "\\end{equation}\n",
       " $$"
      ],
      "text/plain": [
       "x"
      ]
     },
     "metadata": {},
     "output_type": "display_data"
    },
    {
     "data": {
      "text/latex": [
       "$$ \\begin{equation}\n",
       "x\n",
       "\\end{equation}\n",
       " $$"
      ],
      "text/plain": [
       "x"
      ]
     },
     "metadata": {},
     "output_type": "display_data"
    }
   ],
   "source": [
    "sym = @variables x\n",
    "sym |> display\n",
    "sym[1] |> display\n",
    "x |> display"
   ]
  },
  {
   "cell_type": "code",
   "execution_count": 10,
   "metadata": {},
   "outputs": [
    {
     "data": {
      "text/plain": [
       "1"
      ]
     },
     "metadata": {},
     "output_type": "display_data"
    },
    {
     "data": {
      "text/latex": [
       "$$ \\begin{equation}\n",
       "\\left[\n",
       "\\begin{array}{c}\n",
       "x \\\\\n",
       "\\end{array}\n",
       "\\right]\n",
       "\\end{equation}\n",
       " $$"
      ],
      "text/plain": [
       "1-element Vector{Num}:\n",
       " x"
      ]
     },
     "metadata": {},
     "output_type": "display_data"
    },
    {
     "data": {
      "text/latex": [
       "$$ \\begin{equation}\n",
       "x\n",
       "\\end{equation}\n",
       " $$"
      ],
      "text/plain": [
       "x"
      ]
     },
     "metadata": {},
     "output_type": "display_data"
    },
    {
     "data": {
      "text/plain": [
       "2"
      ]
     },
     "metadata": {},
     "output_type": "display_data"
    },
    {
     "data": {
      "text/latex": [
       "$$ \\begin{equation}\n",
       "1 + x\n",
       "\\end{equation}\n",
       " $$"
      ],
      "text/plain": [
       "1 + x"
      ]
     },
     "metadata": {},
     "output_type": "display_data"
    }
   ],
   "source": [
    "x = 1\n",
    "x |> display\n",
    "sym |> display\n",
    "sym[1] |> display\n",
    "(x + 1) |> display\n",
    "(sym[1] + 1) |> display"
   ]
  },
  {
   "cell_type": "code",
   "execution_count": 11,
   "metadata": {},
   "outputs": [
    {
     "data": {
      "text/plain": [
       "Int64"
      ]
     },
     "metadata": {},
     "output_type": "display_data"
    },
    {
     "data": {
      "text/plain": [
       "Num"
      ]
     },
     "metadata": {},
     "output_type": "display_data"
    },
    {
     "data": {
      "text/latex": [
       "$$ \\begin{equation}\n",
       "1 + x\n",
       "\\end{equation}\n",
       " $$"
      ],
      "text/plain": [
       "1 + x"
      ]
     },
     "metadata": {},
     "output_type": "display_data"
    },
    {
     "data": {
      "text/plain": [
       "(:metadata, :coeff, :dict, :issorted, :hash, :arguments)"
      ]
     },
     "metadata": {},
     "output_type": "display_data"
    },
    {
     "data": {
      "text/plain": [
       "2-element Vector{Any}:\n",
       " 1\n",
       "  x"
      ]
     },
     "metadata": {},
     "output_type": "display_data"
    }
   ],
   "source": [
    "(x + 1) |> typeof |> display\n",
    "(sym[1] + 1) |> typeof |> display\n",
    "x = sym[1] + 1\n",
    "x |> display\n",
    "x.val |> propertynames |> display\n",
    "x.val.arguments |> display"
   ]
  },
  {
   "cell_type": "markdown",
   "metadata": {},
   "source": [
    "以上是符号\n",
    "——————————————————"
   ]
  },
  {
   "cell_type": "code",
   "execution_count": 29,
   "metadata": {},
   "outputs": [
    {
     "data": {
      "text/latex": [
       "$$ \\begin{equation}\n",
       "y\\left( t \\right) = 2 + x\n",
       "\\end{equation}\n",
       " $$"
      ],
      "text/plain": [
       "y(t) ~ 2 + x"
      ]
     },
     "metadata": {},
     "output_type": "display_data"
    },
    {
     "data": {
      "text/plain": [
       "Equation"
      ]
     },
     "metadata": {},
     "output_type": "display_data"
    }
   ],
   "source": [
    "(y ~ x + 1) |> display\n",
    "(y ~ x + 1) |> typeof |> display\n"
   ]
  },
  {
   "cell_type": "code",
   "execution_count": 30,
   "metadata": {},
   "outputs": [
    {
     "data": {
      "text/plain": [
       "(:lhs, :rhs)"
      ]
     },
     "metadata": {},
     "output_type": "display_data"
    },
    {
     "data": {
      "text/latex": [
       "$$ \\begin{equation}\n",
       "y\\left( t \\right)\n",
       "\\end{equation}\n",
       " $$"
      ],
      "text/plain": [
       "y(t)"
      ]
     },
     "metadata": {},
     "output_type": "display_data"
    },
    {
     "data": {
      "text/latex": [
       "$$ \\begin{equation}\n",
       "2 + x\n",
       "\\end{equation}\n",
       " $$"
      ],
      "text/plain": [
       "2 + x"
      ]
     },
     "metadata": {},
     "output_type": "display_data"
    },
    {
     "data": {
      "text/latex": [
       "$$ \\begin{equation}\n",
       "1\n",
       "\\end{equation}\n",
       " $$"
      ],
      "text/plain": [
       "1"
      ]
     },
     "metadata": {},
     "output_type": "display_data"
    },
    {
     "data": {
      "text/latex": [
       "$$ \\begin{equation}\n",
       "0\n",
       "\\end{equation}\n",
       " $$"
      ],
      "text/plain": [
       "0"
      ]
     },
     "metadata": {},
     "output_type": "display_data"
    }
   ],
   "source": [
    "eq = y ~ x + 1\n",
    "eq |> propertynames |> display\n",
    "eq.lhs |> display\n",
    "eq.rhs |> display\n",
    "Symbolics.derivative(eq.lhs, y) |> display\n",
    "Symbolics.derivative(eq.rhs, y) |> display"
   ]
  },
  {
   "cell_type": "code",
   "execution_count": 34,
   "metadata": {},
   "outputs": [
    {
     "data": {
      "text/plain": [
       "W"
      ]
     },
     "metadata": {},
     "output_type": "display_data"
    }
   ],
   "source": [
    "@variables x [unit = u\"W\"]\n",
    "@variables y [unit = u\"s\"]\n",
    "@variables z\n",
    "z ~ x * y\n",
    "ModelingToolkit.get_unit(x) |> display"
   ]
  },
  {
   "cell_type": "code",
   "execution_count": null,
   "metadata": {},
   "outputs": [],
   "source": [
    "ModelingToolkit.generate_function(z, [x, y]) |> display"
   ]
  }
 ],
 "metadata": {
  "kernelspec": {
   "display_name": "Julia 1.9.3",
   "language": "julia",
   "name": "julia-1.9"
  },
  "language_info": {
   "file_extension": ".jl",
   "mimetype": "application/julia",
   "name": "julia",
   "version": "1.9.3"
  }
 },
 "nbformat": 4,
 "nbformat_minor": 2
}
