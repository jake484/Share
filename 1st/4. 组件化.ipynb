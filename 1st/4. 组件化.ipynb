{
 "cells": [
  {
   "cell_type": "code",
   "execution_count": null,
   "metadata": {},
   "outputs": [],
   "source": [
    "using ModelingToolkit, OrdinaryDiffEq\n",
    "\n",
    "# 定义变量\n",
    "@variables t\n",
    "@variables V₁(t) V₂(t) V₃(t) I(t)\n",
    "# @variables V₁(t) [irreducible = true] V₂(t) [irreducible = true] V₃(t) [irreducible = true] I(t) [irreducible = true]\n",
    "\n",
    "# 定义微分\n",
    "D = Differential(t)\n",
    "\n",
    "# 设置参数\n",
    "R = 1.0\n",
    "C = 1.0\n",
    "V = 1.0\n",
    "\n",
    "# 输入方程\n",
    "rc_eqs = [\n",
    "    V₁ - V₃ ~ V\n",
    "    V₁ - V₂ ~ I * R\n",
    "    D(V₂) ~ I / C\n",
    "    V₃ ~ 0\n",
    "]\n",
    "\n",
    "# 构建系统\n",
    "@named rc_model = ODESystem(rc_eqs, t)\n",
    "rc_model |> display\n",
    "rc_model |> states |> display\n",
    "# 系统化简\n",
    "sys = structural_simplify(rc_model)"
   ]
  },
  {
   "cell_type": "code",
   "execution_count": null,
   "metadata": {},
   "outputs": [],
   "source": [
    "sys |> println"
   ]
  },
  {
   "cell_type": "code",
   "execution_count": null,
   "metadata": {},
   "outputs": [],
   "source": [
    "sys |> states |> display"
   ]
  },
  {
   "cell_type": "code",
   "execution_count": null,
   "metadata": {},
   "outputs": [],
   "source": [
    "# 设置初值\n",
    "u0 = [V₂ => 0.0]\n",
    "# 求解时间范围\n",
    "tspan = (0.0, 10.0)\n",
    "# 构建问题并求解\n",
    "prob = ODAEProblem(sys, u0, tspan)\n",
    "sol = solve(prob, Tsit5());"
   ]
  },
  {
   "cell_type": "code",
   "execution_count": null,
   "metadata": {},
   "outputs": [],
   "source": [
    "# 查看V₂的变化\n",
    "sol[V₂]"
   ]
  },
  {
   "cell_type": "code",
   "execution_count": 9,
   "metadata": {},
   "outputs": [
    {
     "data": {
      "text/latex": [
       "$$ \\begin{equation}\n",
       "\\left[\n",
       "\\begin{array}{c}\n",
       "\\mathrm{connect}\\left( source_{+}p, resistor_{+}p \\right) \\\\\n",
       "\\mathrm{connect}\\left( resistor_{+}n, capacitor_{+}p \\right) \\\\\n",
       "\\mathrm{connect}\\left( capacitor_{+}n, source_{+}n, ground_{+}g \\right) \\\\\n",
       " - resistor_{+}n_{+}v\\left( t \\right) + resistor_{+}p_{+}v\\left( t \\right) = resistor_{+}R resistor_{+}p_{+}i\\left( t \\right) \\\\\n",
       "0 = resistor_{+}p_{+}i\\left( t \\right) + resistor_{+}n_{+}i\\left( t \\right) \\\\\n",
       "capacitor_{+}v\\left( t \\right) = capacitor_{+}p_{+}v\\left( t \\right) - capacitor_{+}n_{+}v\\left( t \\right) \\\\\n",
       "\\frac{\\mathrm{d} capacitor_{+}v\\left( t \\right)}{\\mathrm{d}t} = \\frac{capacitor_{+}p_{+}i\\left( t \\right)}{capacitor_{+}C} \\\\\n",
       "0 = capacitor_{+}p_{+}i\\left( t \\right) + capacitor_{+}n_{+}i\\left( t \\right) \\\\\n",
       "source_{+}V =  - source_{+}n_{+}v\\left( t \\right) + source_{+}p_{+}v\\left( t \\right) \\\\\n",
       "0 = source_{+}p_{+}i\\left( t \\right) + source_{+}n_{+}i\\left( t \\right) \\\\\n",
       "ground_{+}g_{+}v\\left( t \\right) = 0 \\\\\n",
       "ground_{+}g_{+}i\\left( t \\right) = 0 \\\\\n",
       "\\end{array}\n",
       "\\right]\n",
       "\\end{equation}\n",
       " $$"
      ],
      "text/plain": [
       "12-element Vector{Equation}:\n",
       " connect(source.p, resistor.p)\n",
       " connect(resistor.n, capacitor.p)\n",
       " connect(capacitor.n, source.n, ground.g)\n",
       " -resistor₊n₊v(t) + resistor₊p₊v(t) ~ resistor₊R*resistor₊p₊i(t)\n",
       " 0 ~ resistor₊p₊i(t) + resistor₊n₊i(t)\n",
       " capacitor₊v(t) ~ capacitor₊p₊v(t) - capacitor₊n₊v(t)\n",
       " Differential(t)(capacitor₊v(t)) ~ capacitor₊p₊i(t) / capacitor₊C\n",
       " 0 ~ capacitor₊p₊i(t) + capacitor₊n₊i(t)\n",
       " source₊V ~ -source₊n₊v(t) + source₊p₊v(t)\n",
       " 0 ~ source₊p₊i(t) + source₊n₊i(t)\n",
       " ground₊g₊v(t) ~ 0\n",
       " ground₊g₊i(t) ~ 0"
      ]
     },
     "metadata": {},
     "output_type": "display_data"
    },
    {
     "data": {
      "text/latex": [
       "$$ \\begin{align}\n",
       "\\frac{\\mathrm{d} capacitor_{+}v\\left( t \\right)}{\\mathrm{d}t} =& \\frac{capacitor_{+}p_{+}i\\left( t \\right)}{capacitor_{+}C}\n",
       "\\end{align}\n",
       " $$"
      ],
      "text/plain": [
       "1-element Vector{Equation}:\n",
       " Differential(t)(capacitor₊v(t)) ~ capacitor₊p₊i(t) / capacitor₊C"
      ]
     },
     "metadata": {},
     "output_type": "display_data"
    },
    {
     "data": {
      "text/plain": [
       "1-element Vector{Float64}:\n",
       " 0.7410434348344965"
      ]
     },
     "metadata": {},
     "output_type": "display_data"
    }
   ],
   "source": [
    "using ModelingToolkit, OrdinaryDiffEq\n",
    "# 定义独立时间变量\n",
    "@variables t\n",
    "# 器件端口作为连接点\n",
    "@connector function Pin(; name)\n",
    "    sts = @variables v(t) = 1.0 i(t) = 1.0 [connect = Flow]\n",
    "    return ODESystem(Equation[], t, sts, []; name=name)\n",
    "end\n",
    "# 地，地的端口名字改为g，不是port\n",
    "function Ground(; name)\n",
    "    @named g = Pin()\n",
    "    eqs = [g.v ~ 0; g.i ~ 0]\n",
    "    return compose(ODESystem(eqs, t, [], []; name=name), g)\n",
    "end\n",
    "# 电阻元件\n",
    "function Resistor(; name, R=1.0)\n",
    "    @named p = Pin()\n",
    "    @named n = Pin()\n",
    "    ps = @parameters R = R\n",
    "    eqs = [\n",
    "        p.v - n.v ~ p.i * R\n",
    "        0 ~ p.i + n.i\n",
    "    ]\n",
    "    return compose(ODESystem(eqs, t, [], ps; name=name), p, n)\n",
    "end\n",
    "# 电容元件，因为不能对表达式进行微分，所以再引入一个电容的电压差变量v\n",
    "function Capacitor(; name, C=1.0)\n",
    "    @named p = Pin()\n",
    "    @named n = Pin()\n",
    "    ps = @parameters C = C\n",
    "    sts = @variables begin\n",
    "        v(t) = 1.0\n",
    "    end\n",
    "    D = Differential(t)\n",
    "    eqs = [\n",
    "        v ~ p.v - n.v\n",
    "        D(v) ~ p.i / C\n",
    "        0 ~ p.i + n.i\n",
    "    ]\n",
    "    return compose(ODESystem(eqs, t, sts, ps; name=name), p, n)\n",
    "end\n",
    "# 电压源\n",
    "function ConstantVoltage(; name, V=1.0)\n",
    "    @named p = Pin()\n",
    "    @named n = Pin()\n",
    "    ps = @parameters V = V\n",
    "    eqs = [\n",
    "        V ~ p.v - n.v\n",
    "        0 ~ p.i + n.i\n",
    "    ]\n",
    "    return compose(ODESystem(eqs, t, [], ps; name=name), p, n)\n",
    "end\n",
    "# 定义组件\n",
    "R = 1.0\n",
    "C = 1.0\n",
    "V = 1.0\n",
    "@named resistor = Resistor(R=R) # @name可以视为给定义的组件起了个名字，Resistor(R=R)返回的组件名字就叫resistor\n",
    "@named capacitor = Capacitor(C=C)\n",
    "@named source = ConstantVoltage(V=V)\n",
    "@named ground = Ground()\n",
    "# 构建连接关系\n",
    "rc_eqs = [\n",
    "    connect(source.p, resistor.p)\n",
    "    connect(resistor.n, capacitor.p)\n",
    "    connect(capacitor.n, source.n, ground.g)\n",
    "]\n",
    "@named _rc_model = ODESystem(rc_eqs, t) #连接关系也需要放到ODESystem中。\n",
    "# 组件与组件连接关系一起构建系统\n",
    "@named rc_model = compose(_rc_model, [resistor, capacitor, source, ground])\n",
    "equations(rc_model) |> display # 查看方程 |> \n",
    "# 系统化简\n",
    "sys = structural_simplify(rc_model)\n",
    "equations(sys)  |> display # 查看方程\n",
    "# 定义初值\n",
    "u0 = [capacitor.v => 0.0]\n",
    "# 求解\n",
    "prob = ODAEProblem(sys, u0, (0, 10.0))\n",
    "sol = solve(prob, Tsit5(),saveat=0.1)\n",
    "# 查看电容电压变化\n",
    "sol(1.35234)"
   ]
  },
  {
   "cell_type": "code",
   "execution_count": 6,
   "metadata": {},
   "outputs": [
    {
     "data": {
      "text/plain": [
       "1-element Vector{SymbolicUtils.BasicSymbolic{Real}}:\n",
       " capacitor₊v(t)"
      ]
     },
     "metadata": {},
     "output_type": "display_data"
    }
   ],
   "source": [
    "states(sys)"
   ]
  },
  {
   "cell_type": "code",
   "execution_count": 8,
   "metadata": {},
   "outputs": [
    {
     "data": {
      "text/plain": [
       "11-element Vector{Float64}:\n",
       " 1.0\n",
       " 0.3678793409002571\n",
       " 0.13533589030087978\n",
       " 0.04978186943343821\n",
       " 0.018311872036761656\n",
       " 0.006734628215198324\n",
       " 0.002473203580435235\n",
       " 0.0009102635543620785\n",
       " 0.0003409077379603609\n",
       " 0.00011951081106220673\n",
       " 5.0071900264403446e-5"
      ]
     },
     "metadata": {},
     "output_type": "display_data"
    }
   ],
   "source": [
    "sol[capacitor.p.i]"
   ]
  },
  {
   "cell_type": "code",
   "execution_count": null,
   "metadata": {},
   "outputs": [],
   "source": []
  },
  {
   "cell_type": "code",
   "execution_count": null,
   "metadata": {},
   "outputs": [],
   "source": [
    "sys.resistor.p.v"
   ]
  },
  {
   "cell_type": "code",
   "execution_count": 1,
   "metadata": {},
   "outputs": [
    {
     "data": {
      "text/plain": [
       "15-element Vector{Float64}:\n",
       " 0.0\n",
       " 4.999875002083307e-5\n",
       " 0.000549848777725354\n",
       " 0.005534627202823254\n",
       " 0.05304729754059866\n",
       " 0.16870857122402544\n",
       " 0.3232210676188638\n",
       " 0.47918255576870894\n",
       " 0.6305653418370613\n",
       " 0.7574167496079482\n",
       " 0.854764329162927\n",
       " 0.9210274311861326\n",
       " 0.9615821238825505\n",
       " 0.9835167746379931\n",
       " 0.9932587425735419"
      ]
     },
     "metadata": {},
     "output_type": "display_data"
    }
   ],
   "source": [
    "# 最新版MTK\n",
    "using ModelingToolkit, OrdinaryDiffEq\n",
    "@variables t\n",
    "@connector Pin begin\n",
    "    v(t)\n",
    "    i(t), [connect = Flow]\n",
    "end\n",
    "@mtkmodel Ground begin\n",
    "    @components begin\n",
    "        g = Pin()\n",
    "    end\n",
    "    @equations begin\n",
    "        g.v ~ 0\n",
    "    end\n",
    "end\n",
    "@mtkmodel OnePort begin\n",
    "    @components begin\n",
    "        p = Pin()\n",
    "        n = Pin()\n",
    "    end\n",
    "    @variables begin\n",
    "        v(t)\n",
    "        i(t)\n",
    "    end\n",
    "    @equations begin\n",
    "        v ~ p.v - n.v\n",
    "        0 ~ p.i + n.i\n",
    "        i ~ p.i\n",
    "    end\n",
    "end\n",
    "@mtkmodel Resistor begin\n",
    "    @extend OnePort()\n",
    "    @parameters begin\n",
    "        R = 1.0 # Sets the default resistance\n",
    "    end\n",
    "    @equations begin\n",
    "        v ~ i * R\n",
    "    end\n",
    "end\n",
    "\n",
    "D = Differential(t)\n",
    "\n",
    "@mtkmodel Capacitor begin\n",
    "    @extend OnePort()\n",
    "    @parameters begin\n",
    "        C = 1.0\n",
    "    end\n",
    "    @equations begin\n",
    "        D(v) ~ i / C\n",
    "    end\n",
    "end\n",
    "\n",
    "@mtkmodel ConstantVoltage begin\n",
    "    @extend OnePort()\n",
    "    @parameters begin\n",
    "        V = 1.0\n",
    "    end\n",
    "    @equations begin\n",
    "        V ~ v\n",
    "    end\n",
    "end\n",
    "\n",
    "@mtkmodel RCModel begin\n",
    "    @components begin\n",
    "        resistor = Resistor(R=1.0)\n",
    "        capacitor = Capacitor(C=1.0)\n",
    "        source = ConstantVoltage(V=1.0)\n",
    "        ground = Ground()\n",
    "    end\n",
    "    @equations begin\n",
    "        connect(source.p, resistor.p)\n",
    "        connect(resistor.n, capacitor.p)\n",
    "        connect(capacitor.n, source.n, ground.g)\n",
    "    end\n",
    "end\n",
    "\n",
    "@mtkbuild rc_model = RCModel(resistor.R=2.0)\n",
    "\n",
    "u0 = [\n",
    "    rc_model.capacitor.v => 0.0\n",
    "]\n",
    "prob = ODEProblem(rc_model, u0, (0, 10.0))\n",
    "sol = solve(prob, Tsit5())\n",
    "sol[rc_model.capacitor.p.v]"
   ]
  },
  {
   "cell_type": "code",
   "execution_count": null,
   "metadata": {},
   "outputs": [],
   "source": [
    "rc_model.capacitor"
   ]
  },
  {
   "cell_type": "code",
   "execution_count": null,
   "metadata": {},
   "outputs": [],
   "source": [
    "rc_model.capacitor.v"
   ]
  },
  {
   "cell_type": "code",
   "execution_count": 2,
   "metadata": {},
   "outputs": [
    {
     "data": {
      "text/plain": [
       "(:f, :structure, :isconnector)"
      ]
     },
     "metadata": {},
     "output_type": "display_data"
    }
   ],
   "source": [
    "ConstantVoltage |> propertynames"
   ]
  },
  {
   "cell_type": "code",
   "execution_count": 3,
   "metadata": {},
   "outputs": [
    {
     "data": {
      "text/plain": [
       "ModelingToolkit.Model{typeof(__ConstantVoltage__), Dict{Symbol, Any}}"
      ]
     },
     "metadata": {},
     "output_type": "display_data"
    }
   ],
   "source": [
    "ConstantVoltage |> typeof"
   ]
  },
  {
   "cell_type": "code",
   "execution_count": 11,
   "metadata": {},
   "outputs": [
    {
     "data": {
      "text/plain": [
       "Dict{Symbol, Any} with 5 entries:\n",
       "  :kwargs               => Dict{Symbol, Any}(:V=>1.0)\n",
       "  :independent_variable => t\n",
       "  :extend               => Any[[:p, :n, :v, :i], Symbol(\"#mtkmodel__anonymous__…\n",
       "  :parameters           => Dict{Symbol, Dict{Symbol, Any}}(:V=>Dict(:default=>1…\n",
       "  :equations            => Any[\"V ~ v\"]"
      ]
     },
     "metadata": {},
     "output_type": "display_data"
    }
   ],
   "source": [
    "ConstantVoltage.structure"
   ]
  },
  {
   "cell_type": "code",
   "execution_count": 18,
   "metadata": {},
   "outputs": [
    {
     "data": {
      "text/plain": [
       "__ConstantVoltage__ (generic function with 1 method)"
      ]
     },
     "metadata": {},
     "output_type": "display_data"
    }
   ],
   "source": [
    "ConstantVoltage.f"
   ]
  },
  {
   "cell_type": "code",
   "execution_count": 20,
   "metadata": {},
   "outputs": [
    {
     "ename": "LoadError",
     "evalue": "LoadError: MethodError: no method matching var\"@component\"(::LineNumberNode, ::Module)\n\nClosest candidates are:\n  var\"@component\"(::LineNumberNode, ::Module, !Matched::Any)\n   @ ModelingToolkit C:\\Users\\52243\\.julia\\packages\\ModelingToolkit\\Gpzyo\\src\\systems\\abstractsystem.jl:1307\n\nin expression starting at d:\\PersonalFile\\Develop\\Share\\4. 组件化.ipynb:1",
     "output_type": "error",
     "traceback": [
      "LoadError: MethodError: no method matching var\"@component\"(::LineNumberNode, ::Module)\n",
      "\n",
      "Closest candidates are:\n",
      "  var\"@component\"(::LineNumberNode, ::Module, !Matched::Any)\n",
      "   @ ModelingToolkit C:\\Users\\52243\\.julia\\packages\\ModelingToolkit\\Gpzyo\\src\\systems\\abstractsystem.jl:1307\n",
      "\n",
      "in expression starting at d:\\PersonalFile\\Develop\\Share\\4. 组件化.ipynb:1\n",
      "\n",
      "Stacktrace:\n",
      "  [1] eval\n",
      "    @ .\\boot.jl:370 [inlined]\n",
      "  [2] include_string(mapexpr::typeof(REPL.softscope), mod::Module, code::String, filename::String)\n",
      "    @ Base .\\loading.jl:1903\n",
      "  [3] #invokelatest#2\n",
      "    @ .\\essentials.jl:819 [inlined]\n",
      "  [4] invokelatest\n",
      "    @ .\\essentials.jl:816 [inlined]\n",
      "  [5] (::VSCodeServer.var\"#208#209\"{VSCodeServer.NotebookRunCellArguments, String})()\n",
      "    @ VSCodeServer c:\\Users\\52243\\.vscode\\extensions\\julialang.language-julia-1.65.2\\scripts\\packages\\VSCodeServer\\src\\serve_notebook.jl:19\n",
      "  [6] withpath(f::VSCodeServer.var\"#208#209\"{VSCodeServer.NotebookRunCellArguments, String}, path::String)\n",
      "    @ VSCodeServer c:\\Users\\52243\\.vscode\\extensions\\julialang.language-julia-1.65.2\\scripts\\packages\\VSCodeServer\\src\\repl.jl:274\n",
      "  [7] notebook_runcell_request(conn::VSCodeServer.JSONRPC.JSONRPCEndpoint{Base.PipeEndpoint, Base.PipeEndpoint}, params::VSCodeServer.NotebookRunCellArguments)\n",
      "    @ VSCodeServer c:\\Users\\52243\\.vscode\\extensions\\julialang.language-julia-1.65.2\\scripts\\packages\\VSCodeServer\\src\\serve_notebook.jl:13\n",
      "  [8] dispatch_msg(x::VSCodeServer.JSONRPC.JSONRPCEndpoint{Base.PipeEndpoint, Base.PipeEndpoint}, dispatcher::VSCodeServer.JSONRPC.MsgDispatcher, msg::Dict{String, Any})\n",
      "    @ VSCodeServer.JSONRPC c:\\Users\\52243\\.vscode\\extensions\\julialang.language-julia-1.65.2\\scripts\\packages\\JSONRPC\\src\\typed.jl:67\n",
      "  [9] serve_notebook(pipename::String, outputchannel_logger::Base.CoreLogging.SimpleLogger; crashreporting_pipename::String)\n",
      "    @ VSCodeServer c:\\Users\\52243\\.vscode\\extensions\\julialang.language-julia-1.65.2\\scripts\\packages\\VSCodeServer\\src\\serve_notebook.jl:139\n",
      " [10] top-level scope\n",
      "    @ c:\\Users\\52243\\.vscode\\extensions\\julialang.language-julia-1.65.2\\scripts\\notebook\\notebook.jl:32"
     ]
    }
   ],
   "source": []
  }
 ],
 "metadata": {
  "kernelspec": {
   "display_name": "Julia 1.9.3",
   "language": "julia",
   "name": "julia-1.9"
  },
  "language_info": {
   "file_extension": ".jl",
   "mimetype": "application/julia",
   "name": "julia",
   "version": "1.9.3"
  }
 },
 "nbformat": 4,
 "nbformat_minor": 2
}
