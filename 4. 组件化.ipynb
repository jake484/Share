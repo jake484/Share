{
 "cells": [
  {
   "cell_type": "code",
   "execution_count": 14,
   "metadata": {},
   "outputs": [
    {
     "data": {
      "text/latex": [
       "$$ \\begin{align}\n",
       "\\frac{\\mathrm{d} V_2\\left( t \\right)}{\\mathrm{d}t} =& I\\left( t \\right) \\\\\n",
       "V_1\\left( t \\right) - V_3\\left( t \\right) =& 1 \\\\\n",
       "V_1\\left( t \\right) - V_2\\left( t \\right) =& I\\left( t \\right) \\\\\n",
       "V_3\\left( t \\right) =& 0\n",
       "\\end{align}\n",
       " $$"
      ],
      "text/plain": [
       "\u001b[0m\u001b[1mModel rc_model with 4 \u001b[22m\u001b[0m\u001b[1mequations\u001b[22m\n",
       "\u001b[0m\u001b[1mStates (4):\u001b[22m\n",
       "  V₂(t)\n",
       "  V₃(t)\n",
       "  V₁(t)\n",
       "  I(t)\n",
       "\u001b[0m\u001b[1mParameters (0):\u001b[22m"
      ]
     },
     "metadata": {},
     "output_type": "display_data"
    },
    {
     "data": {
      "text/plain": [
       "4-element Vector{SymbolicUtils.BasicSymbolic{Real}}:\n",
       " V₂(t)\n",
       " V₃(t)\n",
       " V₁(t)\n",
       " I(t)"
      ]
     },
     "metadata": {},
     "output_type": "display_data"
    },
    {
     "data": {
      "text/latex": [
       "$$ \\begin{align}\n",
       "\\frac{\\mathrm{d} V_2\\left( t \\right)}{\\mathrm{d}t} =& I\\left( t \\right)\n",
       "\\end{align}\n",
       " $$"
      ],
      "text/plain": [
       "\u001b[0m\u001b[1mModel rc_model with 1 \u001b[22m\u001b[0m\u001b[1mequations\u001b[22m\n",
       "\u001b[0m\u001b[1mStates (1):\u001b[22m\n",
       "  V₂(t)\n",
       "\u001b[0m\u001b[1mParameters (0):\u001b[22m\n",
       "\u001b[35mIncidence matrix:\u001b[39m1×2 SparseArrays.SparseMatrixCSC{Num, Int64} with 2 stored entries:\n",
       " ×  ×"
      ]
     },
     "metadata": {},
     "output_type": "display_data"
    }
   ],
   "source": [
    "using ModelingToolkit, OrdinaryDiffEq\n",
    "\n",
    "# 定义变量\n",
    "@variables t\n",
    "@variables V₁(t) V₂(t) V₃(t) I(t)\n",
    "# @variables V₁(t) [irreducible = true] V₂(t) [irreducible = true] V₃(t) [irreducible = true] I(t) [irreducible = true]\n",
    "\n",
    "# 定义微分\n",
    "D = Differential(t)\n",
    "\n",
    "# 设置参数\n",
    "R = 1.0\n",
    "C = 1.0\n",
    "V = 1.0\n",
    "\n",
    "# 输入方程\n",
    "rc_eqs = [\n",
    "    V₁ - V₃ ~ V\n",
    "    V₁ - V₂ ~ I * R\n",
    "    D(V₂) ~ I / C\n",
    "    V₃ ~ 0\n",
    "]\n",
    "\n",
    "# 构建系统\n",
    "@named rc_model = ODESystem(rc_eqs, t)\n",
    "rc_model |> display\n",
    "rc_model |> states |> display\n",
    "# 系统化简\n",
    "sys = structural_simplify(rc_model)"
   ]
  },
  {
   "cell_type": "code",
   "execution_count": 22,
   "metadata": {},
   "outputs": [
    {
     "name": "stdout",
     "output_type": "stream",
     "text": [
      "ODESystem(0x0000000000000002, Equation[Differential(t)(V₂(t)) ~ I(t)], t, Any[V₂(t)], Any[], nothing, Dict{Any, Any}(:I => I(t), :V₂ => V₂(t), :V₃ => V₃(t), :V₁ => V₁(t)), Any[], Equation[V₃(t) ~ 0.0, V₁(t) ~ 1.0 + V₃(t), I(t) ~ V₁(t) - V₂(t)], Base.RefValue{Vector{Num}}(Num[]), Base.RefValue{Any}(Matrix{Num}(undef, 0, 0)), Base.RefValue{Any}(Matrix{Num}(undef, 0, 0)), Base.RefValue{Matrix{Num}}(Matrix{Num}(undef, "
     ]
    },
    {
     "name": "stdout",
     "output_type": "stream",
     "text": [
      "0, 0)), Base.RefValue{Matrix{Num}}(Matrix{Num}(undef, 0, 0)), :rc_model, ODESystem[], Dict{Any, Any}(), nothing, nothing, nothing, ModelingToolkit.SymbolicContinuousCallback[ModelingToolkit.SymbolicContinuousCallback(Equation[], Equation[])], ModelingToolkit.SymbolicDiscreteCallback[], nothing, nothing, TearingState of ODESystem, ModelingToolkit.Substitutions(Equation[V₃(t) ~ 0.0, V₁(t) ~ 1.0 + V₃(t), I(t) ~ V₁(t) - V₂(t)], [Int64[], [1], [1, 2]], nothing), true, nothing, nothing, nothing, ODESystem(0x0000000000000002, Equation[Differential(t)(V₂(t)) ~ I(t), V₁(t) - V₃(t) ~ 1.0, V₁(t) - V₂(t) ~ I(t), V₃(t) ~ 0], t, SymbolicUtils.BasicSymbolic{Real}[V₂(t), V₃(t), V₁(t), I(t)], Any[], nothing, Dict{Any, Any}(:I => I(t), :V₂ => V₂(t), :V₃ => V₃(t), :V₁ => V₁(t)), Any[], Equation[], Base.RefValue{Vector{Num}}(Num[]), Base.RefValue{Any}(Matrix{Num}(undef, 0, 0)), Base.RefValue{Any}(Matrix{Num}(undef, 0, 0)), Base.RefValue{Matrix{Num}}(Matrix{Num}(undef, 0, 0)), Base.RefValue{Matrix{Num}}(Matrix{Num}(undef, 0, 0)), :rc_model, ODESystem[], Dict{Any, Any}(), nothing, nothing, nothing, ModelingToolkit.SymbolicContinuousCallback[ModelingToolkit.SymbolicContinuousCallback(Equation[], Equation[])], ModelingToolkit.SymbolicDiscreteCallback[], nothing, nothing, nothing, nothing, true, nothing, nothing, nothing, nothing))\n"
     ]
    }
   ],
   "source": [
    "sys |> println"
   ]
  },
  {
   "cell_type": "code",
   "execution_count": 23,
   "metadata": {},
   "outputs": [
    {
     "data": {
      "text/plain": [
       "1-element Vector{SymbolicUtils.BasicSymbolic{Real}}:\n",
       " V₂(t)"
      ]
     },
     "metadata": {},
     "output_type": "display_data"
    }
   ],
   "source": [
    "sys |> states |> display"
   ]
  },
  {
   "cell_type": "code",
   "execution_count": 24,
   "metadata": {},
   "outputs": [],
   "source": [
    "# 设置初值\n",
    "u0 = [V₂ => 0.0]\n",
    "# 求解时间范围\n",
    "tspan = (0.0, 10.0)\n",
    "# 构建问题并求解\n",
    "prob = ODAEProblem(sys, u0, tspan)\n",
    "sol = solve(prob, Tsit5());"
   ]
  },
  {
   "cell_type": "code",
   "execution_count": 26,
   "metadata": {},
   "outputs": [
    {
     "data": {
      "text/plain": [
       "19-element Vector{Float64}:\n",
       " 0.0\n",
       " 9.999500016666247e-5\n",
       " 0.001099395221772342\n",
       " 0.011038622307372232\n",
       " 0.07387132069817183\n",
       " 0.20198030129465658\n",
       " 0.35954472556518147\n",
       " 0.5167641452122544\n",
       " 0.6637713825376198\n",
       " 0.7841482271226826\n",
       " 0.8737784044472122\n",
       " 0.9331779821204208\n",
       " 0.9684489616227439\n",
       " 0.9869310637824636\n",
       " 0.9953772824474669\n",
       " 0.9986536797747498\n",
       " 0.9996930416967437\n",
       " 0.9999471971800106\n",
       " 0.9999499280997356"
      ]
     },
     "metadata": {},
     "output_type": "display_data"
    }
   ],
   "source": [
    "# 查看V₂的变化\n",
    "sol[V₂]"
   ]
  },
  {
   "cell_type": "code",
   "execution_count": 1,
   "metadata": {},
   "outputs": [
    {
     "data": {
      "text/plain": [
       "19-element Vector{Float64}:\n",
       " 0.0\n",
       " 9.999500016666247e-5\n",
       " 0.001099395221772342\n",
       " 0.011038622307372232\n",
       " 0.07387132069817183\n",
       " 0.20198030129465658\n",
       " 0.35954472556518147\n",
       " 0.5167641452122544\n",
       " 0.6637713825376198\n",
       " 0.7841482271226826\n",
       " 0.8737784044472122\n",
       " 0.9331779821204208\n",
       " 0.9684489616227439\n",
       " 0.9869310637824636\n",
       " 0.9953772824474669\n",
       " 0.9986536797747498\n",
       " 0.9996930416967437\n",
       " 0.9999471971800106\n",
       " 0.9999499280997356"
      ]
     },
     "metadata": {},
     "output_type": "display_data"
    }
   ],
   "source": [
    "using ModelingToolkit, OrdinaryDiffEq\n",
    "# 定义独立时间变量\n",
    "@variables t\n",
    "# 器件端口作为连接点\n",
    "@connector function Pin(; name)\n",
    "    sts = @variables v(t) = 1.0 i(t) = 1.0 [connect = Flow]\n",
    "    return ODESystem(Equation[], t, sts, []; name=name)\n",
    "end\n",
    "# 地，地的端口名字改为g，不是port\n",
    "function Ground(; name)\n",
    "    @named g = Pin()\n",
    "    eqs = [g.v ~ 0; g.i ~ 0]\n",
    "    return compose(ODESystem(eqs, t, [], []; name=name), g)\n",
    "end\n",
    "# 电阻元件\n",
    "function Resistor(; name, R=1.0)\n",
    "    @named p = Pin()\n",
    "    @named n = Pin()\n",
    "    ps = @parameters R = R\n",
    "    eqs = [\n",
    "        p.v - n.v ~ p.i * R\n",
    "        0 ~ p.i + n.i\n",
    "    ]\n",
    "    return compose(ODESystem(eqs, t, [], ps; name=name), p, n)\n",
    "end\n",
    "# 电容元件，因为不能对表达式进行微分，所以再引入一个电容的电压差变量v\n",
    "function Capacitor(; name, C=1.0)\n",
    "    @named p = Pin()\n",
    "    @named n = Pin()\n",
    "    ps = @parameters C = C\n",
    "    sts = @variables v(t) = 1.0\n",
    "    D = Differential(t)\n",
    "    eqs = [\n",
    "        v ~ p.v - n.v\n",
    "        D(v) ~ p.i / C\n",
    "        0 ~ p.i + n.i\n",
    "    ]\n",
    "    return compose(ODESystem(eqs, t, sts, ps; name=name), p, n)\n",
    "end\n",
    "# 电压源\n",
    "function ConstantVoltage(; name, V=1.0)\n",
    "    @named p = Pin()\n",
    "    @named n = Pin()\n",
    "    ps = @parameters V = V\n",
    "    eqs = [\n",
    "        V ~ p.v - n.v\n",
    "        0 ~ p.i + n.i\n",
    "    ]\n",
    "    return compose(ODESystem(eqs, t, [], ps; name=name), p, n)\n",
    "end\n",
    "# 定义组件\n",
    "R = 1.0\n",
    "C = 1.0\n",
    "V = 1.0\n",
    "@named resistor = Resistor(R=R) # @name可以视为给定义的组件起了个名字，Resistor(R=R)返回的组件名字就叫resistor\n",
    "@named capacitor = Capacitor(C=C)\n",
    "@named source = ConstantVoltage(V=V)\n",
    "@named ground = Ground()\n",
    "# 构建连接关系\n",
    "rc_eqs = [\n",
    "    connect(source.p, resistor.p)\n",
    "    connect(resistor.n, capacitor.p)\n",
    "    connect(capacitor.n, source.n, ground.g)\n",
    "]\n",
    "@named _rc_model = ODESystem(rc_eqs, t) #连接关系也需要放到ODESystem中。\n",
    "# 组件与组件连接关系一起构建系统\n",
    "@named rc_model = compose(_rc_model, [resistor, capacitor, source, ground])\n",
    "equations(rc_model) # 查看方程\n",
    "# 系统化简\n",
    "sys = structural_simplify(rc_model)\n",
    "equations(sys) # 查看方程\n",
    "# 定义初值\n",
    "u0 = [capacitor.v => 0.0]\n",
    "# 求解\n",
    "prob = ODAEProblem(sys, u0, (0, 10.0))\n",
    "sol = solve(prob, Tsit5())\n",
    "# 查看电容电压变化\n",
    "sol[capacitor.p.v]"
   ]
  },
  {
   "cell_type": "code",
   "execution_count": 7,
   "metadata": {},
   "outputs": [
    {
     "data": {
      "text/plain": [
       "Num"
      ]
     },
     "metadata": {},
     "output_type": "display_data"
    }
   ],
   "source": [
    "sys.resistor.p.v"
   ]
  },
  {
   "cell_type": "code",
   "execution_count": 1,
   "metadata": {},
   "outputs": [
    {
     "data": {
      "text/plain": [
       "15-element Vector{Float64}:\n",
       " 0.0\n",
       " 4.999875002083307e-5\n",
       " 0.000549848777725354\n",
       " 0.005534627202823254\n",
       " 0.05304729754059866\n",
       " 0.16870857122402544\n",
       " 0.3232210676188638\n",
       " 0.47918255576870894\n",
       " 0.6305653418370613\n",
       " 0.7574167496079482\n",
       " 0.854764329162927\n",
       " 0.9210274311861326\n",
       " 0.9615821238825505\n",
       " 0.9835167746379931\n",
       " 0.9932587425735419"
      ]
     },
     "metadata": {},
     "output_type": "display_data"
    }
   ],
   "source": [
    "# 最新版MTK\n",
    "using ModelingToolkit, OrdinaryDiffEq\n",
    "@variables t\n",
    "@connector Pin begin\n",
    "    v(t)\n",
    "    i(t), [connect = Flow]\n",
    "end\n",
    "@mtkmodel Ground begin\n",
    "    @components begin\n",
    "        g = Pin()\n",
    "    end\n",
    "    @equations begin\n",
    "        g.v ~ 0\n",
    "    end\n",
    "end\n",
    "@mtkmodel OnePort begin\n",
    "    @components begin\n",
    "        p = Pin()\n",
    "        n = Pin()\n",
    "    end\n",
    "    @variables begin\n",
    "        v(t)\n",
    "        i(t)\n",
    "    end\n",
    "    @equations begin\n",
    "        v ~ p.v - n.v\n",
    "        0 ~ p.i + n.i\n",
    "        i ~ p.i\n",
    "    end\n",
    "end\n",
    "@mtkmodel Resistor begin\n",
    "    @extend OnePort()\n",
    "    @parameters begin\n",
    "        R = 1.0 # Sets the default resistance\n",
    "    end\n",
    "    @equations begin\n",
    "        v ~ i * R\n",
    "    end\n",
    "end\n",
    "\n",
    "D = Differential(t)\n",
    "\n",
    "@mtkmodel Capacitor begin\n",
    "    @extend OnePort()\n",
    "    @parameters begin\n",
    "        C = 1.0\n",
    "    end\n",
    "    @equations begin\n",
    "        D(v) ~ i / C\n",
    "    end\n",
    "end\n",
    "\n",
    "@mtkmodel ConstantVoltage begin\n",
    "    @extend OnePort()\n",
    "    @parameters begin\n",
    "        V = 1.0\n",
    "    end\n",
    "    @equations begin\n",
    "        V ~ v\n",
    "    end\n",
    "end\n",
    "\n",
    "@mtkmodel RCModel begin\n",
    "    @components begin\n",
    "        resistor = Resistor(R=1.0)\n",
    "        capacitor = Capacitor(C=1.0)\n",
    "        source = ConstantVoltage(V=1.0)\n",
    "        ground = Ground()\n",
    "    end\n",
    "    @equations begin\n",
    "        connect(source.p, resistor.p)\n",
    "        connect(resistor.n, capacitor.p)\n",
    "        connect(capacitor.n, source.n, ground.g)\n",
    "    end\n",
    "end\n",
    "\n",
    "@mtkbuild rc_model = RCModel(resistor.R=2.0)\n",
    "\n",
    "u0 = [\n",
    "    rc_model.capacitor.v => 0.0\n",
    "]\n",
    "prob = ODEProblem(rc_model, u0, (0, 10.0))\n",
    "sol = solve(prob, Tsit5())\n",
    "sol[rc_model.capacitor.p.v]"
   ]
  },
  {
   "cell_type": "code",
   "execution_count": 8,
   "metadata": {},
   "outputs": [
    {
     "data": {
      "text/latex": [
       "$$ \\begin{align}\n",
       "v\\left( t \\right) =& p_{+}v\\left( t \\right) - n_{+}v\\left( t \\right) \\\\\n",
       "0 =& n_{+}i\\left( t \\right) + p_{+}i\\left( t \\right) \\\\\n",
       "i\\left( t \\right) =& p_{+}i\\left( t \\right) \\\\\n",
       "\\frac{\\mathrm{d} v\\left( t \\right)}{\\mathrm{d}t} =& \\frac{i\\left( t \\right)}{C}\n",
       "\\end{align}\n",
       " $$"
      ],
      "text/plain": [
       "\u001b[0m\u001b[1mModel capacitor with 4 \u001b[22m\u001b[0m\u001b[1m(\u001b[22m\u001b[35m\u001b[1m6\u001b[22m\u001b[39m\u001b[0m\u001b[1m) \u001b[22m\u001b[0m\u001b[1mequations\u001b[22m\n",
       "\u001b[0m\u001b[1mStates (6):\u001b[22m\n",
       "  v(t)\n",
       "  i(t)\n",
       "  p₊v(t)\n",
       "  p₊i(t)\n",
       "⋮\n",
       "\u001b[0m\u001b[1mParameters (1):\u001b[22m\n",
       "  C [defaults to 1.0]"
      ]
     },
     "metadata": {},
     "output_type": "display_data"
    }
   ],
   "source": [
    "rc_model.capacitor"
   ]
  },
  {
   "cell_type": "code",
   "execution_count": 9,
   "metadata": {},
   "outputs": [
    {
     "data": {
      "text/latex": [
       "$$ \\begin{equation}\n",
       "capacitor_{+}v\\left( t \\right)\n",
       "\\end{equation}\n",
       " $$"
      ],
      "text/plain": [
       "capacitor₊v(t)"
      ]
     },
     "metadata": {},
     "output_type": "display_data"
    }
   ],
   "source": [
    "rc_model.capacitor.v"
   ]
  }
 ],
 "metadata": {
  "kernelspec": {
   "display_name": "Julia 1.9.3",
   "language": "julia",
   "name": "julia-1.9"
  },
  "language_info": {
   "file_extension": ".jl",
   "mimetype": "application/julia",
   "name": "julia",
   "version": "1.9.3"
  }
 },
 "nbformat": 4,
 "nbformat_minor": 2
}
