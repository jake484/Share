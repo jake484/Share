{
 "cells": [
  {
   "cell_type": "code",
   "execution_count": 46,
   "metadata": {},
   "outputs": [
    {
     "data": {
      "text/latex": [
       "$$ \\begin{align}\n",
       "\\frac{\\mathrm{d} V_2\\left( t \\right)}{\\mathrm{d}t} =& I\\left( t \\right) \\\\\n",
       "V_1\\left( t \\right) - V_3\\left( t \\right) =& 1 \\\\\n",
       "V_1\\left( t \\right) - V_2\\left( t \\right) =& I\\left( t \\right) \\\\\n",
       "V_3\\left( t \\right) =& 0\n",
       "\\end{align}\n",
       " $$"
      ],
      "text/plain": [
       "\u001b[0m\u001b[1mModel rc_model with 4 \u001b[22m\u001b[0m\u001b[1mequations\u001b[22m\n",
       "\u001b[0m\u001b[1mStates (4):\u001b[22m\n",
       "  V₂(t)\n",
       "  V₃(t)\n",
       "  V₁(t)\n",
       "  I(t)\n",
       "\u001b[0m\u001b[1mParameters (0):\u001b[22m"
      ]
     },
     "metadata": {},
     "output_type": "display_data"
    }
   ],
   "source": [
    "using ModelingToolkit, OrdinaryDiffEq\n",
    "\n",
    "# 定义变量\n",
    "@variables t\n",
    "@variables V₁(t) V₂(t) V₃(t) I(t)\n",
    "# @variables V₁(t) [irreducible = true] V₂(t) [irreducible = true] V₃(t) [irreducible = true] I(t) [irreducible = true]\n",
    "\n",
    "# 定义微分\n",
    "D = Differential(t)\n",
    "\n",
    "# 设置参数\n",
    "R = 1.0\n",
    "C = 1.0\n",
    "V = 1.0\n",
    "\n",
    "# 输入方程\n",
    "rc_eqs = [\n",
    "    V₁ - V₃ ~ V\n",
    "    V₁ - V₂ ~ I * R\n",
    "    D(V₂) ~ I / C\n",
    "    V₃ ~ 0\n",
    "]\n",
    "\n",
    "# 构建系统\n",
    "@named rc_model = ODESystem(rc_eqs, t)"
   ]
  },
  {
   "cell_type": "code",
   "execution_count": 69,
   "metadata": {},
   "outputs": [
    {
     "data": {
      "text/plain": [
       "4-element Vector{SymbolicUtils.BasicSymbolic{Real}}:\n",
       " V₂(t)\n",
       " V₃(t)\n",
       " V₁(t)\n",
       " I(t)"
      ]
     },
     "metadata": {},
     "output_type": "display_data"
    },
    {
     "name": "stdout",
     "output_type": "stream",
     "text": [
      "ODESystem(0x0000000000000009, Equation[Differential(t)(V₂(t)) ~ I(t)], t, Any[V₂(t)], Any[], nothing, Dict{Any, Any}(:I => I(t), :V₂ => V₂(t), :V₃ => V₃(t), :V₁ => V₁(t)), Any[], Equation[V₃(t) ~ 0.0, V₁(t) ~ 1.0 + V₃(t), I(t) ~ V₁(t) - V₂(t)], Base.RefValue{Vector{Num}}(Num[]), Base.RefValue{Any}(Matrix{Num}(undef, 0, 0)), Base.RefValue{Any}(Matrix{Num}(undef, 0, 0)), Base.RefValue{Matrix{Num}}(Matrix{Num}(undef, 0, 0)), Base.RefValue{Matrix{Num}}(Matrix{Num}(undef, 0, 0)), :rc_model, ODESystem[], Dict{Any, Any}(), nothing, nothing, nothing, ModelingToolkit.SymbolicContinuousCallback[ModelingToolkit.SymbolicContinuousCallback(Equation[], Equation[])], ModelingToolkit.SymbolicDiscreteCallback[], nothing, nothing, TearingState of ODESystem, ModelingToolkit.Substitutions(Equation[V₃(t) ~ 0.0, V₁(t) ~ 1.0 + V₃(t), I(t) ~ V₁(t) - V₂(t)], [Int64[], [1], [1, 2]], nothing), true, nothing, nothing, nothing, ODESystem(0x0000000000000009, Equation[Differential(t)(V₂(t)) ~ I(t), V₁(t) - V₃(t) ~ 1.0, V₁(t) - V₂(t) ~ I(t), V₃(t) ~ 0], t, SymbolicUtils.BasicSymbolic{Real}[V₂(t), V₃(t), V₁(t), I(t)], Any[], nothing, Dict{Any, Any}(:I => I(t), :V₂ => V₂(t), :V₃ => V₃(t), :V₁ => V₁(t)), Any[], Equation[], Base.RefValue{Vector{Num}}(Num[]), Base.RefValue{Any}(Matrix{Num}(undef, 0, 0)), Base.RefValue{Any}(Matrix{Num}(undef, 0, 0)), Base.RefValue{Matrix{Num}}(Matrix{Num}(undef, 0, 0)), Base.RefValue{Matrix{Num}}(Matrix{Num}(undef, 0, 0)), :rc_model, ODESystem[], Dict{Any, Any}(), nothing, nothing, nothing, ModelingToolkit.SymbolicContinuousCallback[ModelingToolkit.SymbolicContinuousCallback(Equation[], Equation[])], ModelingToolkit.SymbolicDiscreteCallback[], nothing, nothing, nothing, nothing, true, nothing, nothing, nothing, nothing))\n"
     ]
    }
   ],
   "source": [
    "rc_model |> states |> display\n",
    "# 系统化简\n",
    "sys = structural_simplify(rc_model)\n",
    "sys |> println\n",
    "# sys |> states |> display\n"
   ]
  },
  {
   "cell_type": "code",
   "execution_count": 43,
   "metadata": {},
   "outputs": [],
   "source": [
    "# 设置初值\n",
    "u0 = [\n",
    "    V₂ => 0.0\n",
    "]\n",
    "# 求解时间范围\n",
    "tspan = (0.0, 10.0)\n",
    "\n",
    "# 构建问题并求解\n",
    "prob = ODAEProblem(sys, u0, tspan)\n",
    "sol = solve(prob, Tsit5());"
   ]
  },
  {
   "cell_type": "code",
   "execution_count": null,
   "metadata": {},
   "outputs": [],
   "source": [
    "# 分别查看 V₁, V₂, V₃ 的变化\n",
    "sol[V₂]\n",
    "sol[V₁]\n",
    "sol[V₃]"
   ]
  }
 ],
 "metadata": {
  "kernelspec": {
   "display_name": "Julia 1.9.1",
   "language": "julia",
   "name": "julia-1.9"
  },
  "language_info": {
   "file_extension": ".jl",
   "mimetype": "application/julia",
   "name": "julia",
   "version": "1.9.1"
  }
 },
 "nbformat": 4,
 "nbformat_minor": 2
}
